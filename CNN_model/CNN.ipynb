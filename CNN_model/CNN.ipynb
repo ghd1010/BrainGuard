{
  "cells": [
    {
      "cell_type": "markdown",
      "metadata": {
        "id": "UcYLGFZ-klzL"
      },
      "source": [
        "# Threshold"
      ]
    },
    {
      "cell_type": "code",
      "execution_count": null,
      "metadata": {
        "id": "SGZm6FmSZiyC"
      },
      "outputs": [],
      "source": [
        "import zipfile\n",
        "\n",
        "#extract the dataset from the zip file\n",
        "with zipfile.ZipFile('/content/Threshold.zip', 'r') as zip_ref:\n",
        "    zip_ref.extractall('/content')"
      ]
    },
    {
      "cell_type": "code",
      "execution_count": null,
      "metadata": {
        "colab": {
          "base_uri": "https://localhost:8080/"
        },
        "id": "-fjwFiLnWaVA",
        "outputId": "a4ac5bf3-0f8b-4499-e534-5c6140a8c1b3"
      },
      "outputs": [
        {
          "name": "stdout",
          "output_type": "stream",
          "text": [
            "X shape: (390, 240, 240, 3, 1)\n",
            "y shape: (390,)\n"
          ]
        }
      ],
      "source": [
        "import os\n",
        "import cv2\n",
        "import numpy as np\n",
        "\n",
        "image_dir = '/content/Threshold'\n",
        "image_files = os.listdir(image_dir)\n",
        "\n",
        "#sort the image files alphabetically\n",
        "image_files.sort()\n",
        "\n",
        "#create empty arrays for images (X) and labels (y)\n",
        "X = []\n",
        "y = []\n",
        "\n",
        "#load images and labels\n",
        "for filename in image_files:\n",
        "    image_path = os.path.join(image_dir, filename)\n",
        "    image = cv2.imread(image_path)\n",
        "    if image is not None:\n",
        "        image = cv2.resize(image, (240, 240))\n",
        "        X.append(image)\n",
        "        if 'thresholded_N' in filename:\n",
        "            y.append(0)\n",
        "        elif 'thresholded_Y' in filename:\n",
        "            y.append(1)\n",
        "\n",
        "#convert the lists to NumPy arrays\n",
        "X = np.array(X)\n",
        "y = np.array(y)\n",
        "X = np.expand_dims(X, axis=-1)\n",
        "\n",
        "#print the shape of the arrays\n",
        "print('X shape:', X.shape)\n",
        "print('y shape:', y.shape)"
      ]
    },
    {
      "cell_type": "code",
      "execution_count": null,
      "metadata": {
        "id": "LiNG0gRxXkmy"
      },
      "outputs": [],
      "source": [
        "from sklearn.utils import shuffle\n",
        "#shuffle the data\n",
        "X, y = shuffle(X, y)"
      ]
    },
    {
      "cell_type": "code",
      "execution_count": null,
      "metadata": {
        "id": "ctiNGmREXn3Y"
      },
      "outputs": [],
      "source": [
        "from sklearn.model_selection import train_test_split\n",
        "def split_data(X, y, test_size):\n",
        "\n",
        "    X_train, X_test_val, y_train, y_test_val = train_test_split(X, y, test_size=test_size)\n",
        "    X_test, X_val, y_test, y_val = train_test_split(X_test_val, y_test_val, test_size=0.5)\n",
        "\n",
        "    return X_train, y_train, X_val, y_val, X_test, y_test"
      ]
    },
    {
      "cell_type": "code",
      "execution_count": null,
      "metadata": {
        "id": "-h8THugZXqhG"
      },
      "outputs": [],
      "source": [
        "X_train, y_train, X_val, y_val, X_test, y_test = split_data(X, y, 0.2)"
      ]
    },
    {
      "cell_type": "code",
      "execution_count": null,
      "metadata": {
        "colab": {
          "base_uri": "https://localhost:8080/"
        },
        "id": "pndko2tDXtTi",
        "outputId": "ea942751-b664-4527-b717-b3699aa7e75e"
      },
      "outputs": [
        {
          "name": "stdout",
          "output_type": "stream",
          "text": [
            "number of training examples = 312\n",
            "number of validation examples = 39\n",
            "number of test examples = 39\n"
          ]
        }
      ],
      "source": [
        "print (\"number of training examples = \" + str(X_train.shape[0]))\n",
        "print (\"number of validation examples = \" + str(X_val.shape[0]))\n",
        "print (\"number of test examples = \" + str(X_test.shape[0]))"
      ]
    },
    {
      "cell_type": "code",
      "execution_count": null,
      "metadata": {
        "id": "KE9_w_0IXuum"
      },
      "outputs": [],
      "source": [
        "import tensorflow as tf\n",
        "from tensorflow.keras.layers import Conv2D,Input,ZeroPadding2D,BatchNormalization,Flatten,Activation,Dense,MaxPooling2D,Dropout"
      ]
    },
    {
      "cell_type": "code",
      "execution_count": null,
      "metadata": {
        "colab": {
          "base_uri": "https://localhost:8080/"
        },
        "id": "s4pFKtevXzmN",
        "outputId": "7bd16b3d-b507-4700-af0e-788d49071a6e"
      },
      "outputs": [
        {
          "name": "stdout",
          "output_type": "stream",
          "text": [
            "Model: \"sequential\"\n",
            "_________________________________________________________________\n",
            " Layer (type)                Output Shape              Param #   \n",
            "=================================================================\n",
            " conv2d (Conv2D)             (None, 240, 240, 16)      3904      \n",
            "                                                                 \n",
            " max_pooling2d (MaxPooling2  (None, 120, 120, 16)      0         \n",
            " D)                                                              \n",
            "                                                                 \n",
            " dropout (Dropout)           (None, 120, 120, 16)      0         \n",
            "                                                                 \n",
            " conv2d_1 (Conv2D)           (None, 120, 120, 16)      20752     \n",
            "                                                                 \n",
            " max_pooling2d_1 (MaxPoolin  (None, 60, 60, 16)        0         \n",
            " g2D)                                                            \n",
            "                                                                 \n",
            " dropout_1 (Dropout)         (None, 60, 60, 16)        0         \n",
            "                                                                 \n",
            " conv2d_2 (Conv2D)           (None, 60, 60, 36)        46692     \n",
            "                                                                 \n",
            " max_pooling2d_2 (MaxPoolin  (None, 30, 30, 36)        0         \n",
            " g2D)                                                            \n",
            "                                                                 \n",
            " dropout_2 (Dropout)         (None, 30, 30, 36)        0         \n",
            "                                                                 \n",
            " flatten (Flatten)           (None, 32400)             0         \n",
            "                                                                 \n",
            " dense (Dense)               (None, 512)               16589312  \n",
            "                                                                 \n",
            " dropout_3 (Dropout)         (None, 512)               0         \n",
            "                                                                 \n",
            " dense_1 (Dense)             (None, 1)                 513       \n",
            "                                                                 \n",
            "=================================================================\n",
            "Total params: 16661173 (63.56 MB)\n",
            "Trainable params: 16661173 (63.56 MB)\n",
            "Non-trainable params: 0 (0.00 Byte)\n",
            "_________________________________________________________________\n"
          ]
        }
      ],
      "source": [
        "CNN_model= tf.keras.Sequential()\n",
        "\n",
        "CNN_model.add(Conv2D(filters=16,kernel_size=9, padding='same', activation='relu', input_shape=(240,240,3)))\n",
        "CNN_model.add(MaxPooling2D(pool_size=2))\n",
        "CNN_model.add(Dropout(0.45))\n",
        "\n",
        "CNN_model.add(Conv2D(filters=16,kernel_size=9,padding='same', activation='relu'))\n",
        "CNN_model.add(MaxPooling2D(pool_size=2))\n",
        "CNN_model.add(Dropout(0.25))\n",
        "\n",
        "CNN_model.add(Conv2D(filters=36, kernel_size=9, padding='same', activation='relu'))\n",
        "CNN_model.add(MaxPooling2D(pool_size=2))\n",
        "CNN_model.add(Dropout(0.25))\n",
        "\n",
        "CNN_model.add(Flatten())\n",
        "\n",
        "CNN_model.add(Dense(512, activation='relu'))\n",
        "CNN_model.add(Dropout(0.15))\n",
        "\n",
        "\n",
        "CNN_model.add(Dense(1, activation='sigmoid'))\n",
        "\n",
        "CNN_model.summary()"
      ]
    },
    {
      "cell_type": "code",
      "execution_count": null,
      "metadata": {
        "id": "10BlA97xX264"
      },
      "outputs": [],
      "source": [
        "CNN_model.compile(loss='binary_crossentropy', optimizer=tf.keras.optimizers.Adam(), metrics=['acc'])"
      ]
    },
    {
      "cell_type": "code",
      "execution_count": null,
      "metadata": {
        "colab": {
          "base_uri": "https://localhost:8080/"
        },
        "id": "1AYsE1gMX6-0",
        "outputId": "bc274e77-392a-435a-8d1a-68ccea15d267"
      },
      "outputs": [
        {
          "name": "stdout",
          "output_type": "stream",
          "text": [
            "Epoch 1/30\n",
            "10/10 [==============================] - 68s 7s/step - loss: 0.0076 - acc: 1.0000 - val_loss: 0.3470 - val_acc: 0.8974\n",
            "Epoch 2/30\n",
            "10/10 [==============================] - 68s 7s/step - loss: 0.0033 - acc: 1.0000 - val_loss: 0.3169 - val_acc: 0.8974\n",
            "Epoch 3/30\n",
            "10/10 [==============================] - 72s 7s/step - loss: 0.0063 - acc: 1.0000 - val_loss: 0.3375 - val_acc: 0.8974\n",
            "Epoch 4/30\n",
            "10/10 [==============================] - 71s 7s/step - loss: 0.0082 - acc: 1.0000 - val_loss: 0.3124 - val_acc: 0.9231\n",
            "Epoch 5/30\n",
            "10/10 [==============================] - 71s 7s/step - loss: 0.0065 - acc: 1.0000 - val_loss: 0.3420 - val_acc: 0.8462\n",
            "Epoch 6/30\n",
            "10/10 [==============================] - 71s 7s/step - loss: 0.0100 - acc: 0.9968 - val_loss: 0.3280 - val_acc: 0.8462\n",
            "Epoch 7/30\n",
            "10/10 [==============================] - 73s 7s/step - loss: 0.0051 - acc: 1.0000 - val_loss: 0.3818 - val_acc: 0.8462\n",
            "Epoch 8/30\n",
            "10/10 [==============================] - 68s 7s/step - loss: 0.0037 - acc: 1.0000 - val_loss: 0.4354 - val_acc: 0.8462\n",
            "Epoch 9/30\n",
            "10/10 [==============================] - 68s 7s/step - loss: 0.0046 - acc: 1.0000 - val_loss: 0.4497 - val_acc: 0.8462\n",
            "Epoch 10/30\n",
            "10/10 [==============================] - 70s 7s/step - loss: 0.0063 - acc: 1.0000 - val_loss: 0.3406 - val_acc: 0.9231\n",
            "Epoch 11/30\n",
            "10/10 [==============================] - 71s 7s/step - loss: 0.0023 - acc: 1.0000 - val_loss: 0.3905 - val_acc: 0.8718\n",
            "Epoch 12/30\n",
            "10/10 [==============================] - 69s 7s/step - loss: 0.0055 - acc: 0.9968 - val_loss: 0.2909 - val_acc: 0.9231\n",
            "Epoch 13/30\n",
            "10/10 [==============================] - 70s 7s/step - loss: 0.0027 - acc: 1.0000 - val_loss: 0.2826 - val_acc: 0.9231\n",
            "Epoch 14/30\n",
            "10/10 [==============================] - 70s 7s/step - loss: 0.0147 - acc: 0.9936 - val_loss: 0.4581 - val_acc: 0.8462\n",
            "Epoch 15/30\n",
            "10/10 [==============================] - 71s 7s/step - loss: 0.0174 - acc: 0.9936 - val_loss: 0.3374 - val_acc: 0.9231\n",
            "Epoch 16/30\n",
            "10/10 [==============================] - 70s 7s/step - loss: 0.0229 - acc: 0.9904 - val_loss: 0.4389 - val_acc: 0.8718\n",
            "Epoch 17/30\n",
            "10/10 [==============================] - 71s 7s/step - loss: 0.0708 - acc: 0.9872 - val_loss: 0.4142 - val_acc: 0.8974\n",
            "Epoch 18/30\n",
            "10/10 [==============================] - 70s 7s/step - loss: 0.0510 - acc: 0.9808 - val_loss: 0.3896 - val_acc: 0.8974\n",
            "Epoch 19/30\n",
            "10/10 [==============================] - 72s 7s/step - loss: 0.0180 - acc: 0.9936 - val_loss: 0.4157 - val_acc: 0.8974\n",
            "Epoch 20/30\n",
            "10/10 [==============================] - 70s 7s/step - loss: 0.0241 - acc: 0.9936 - val_loss: 0.4750 - val_acc: 0.9231\n",
            "Epoch 21/30\n",
            "10/10 [==============================] - 70s 7s/step - loss: 0.0111 - acc: 0.9968 - val_loss: 0.3850 - val_acc: 0.9231\n",
            "Epoch 22/30\n",
            "10/10 [==============================] - 71s 7s/step - loss: 0.0097 - acc: 0.9968 - val_loss: 0.3567 - val_acc: 0.9231\n",
            "Epoch 23/30\n",
            "10/10 [==============================] - 72s 7s/step - loss: 0.0032 - acc: 1.0000 - val_loss: 0.3682 - val_acc: 0.9231\n",
            "Epoch 24/30\n",
            "10/10 [==============================] - 71s 7s/step - loss: 0.0038 - acc: 1.0000 - val_loss: 0.3671 - val_acc: 0.9231\n",
            "Epoch 25/30\n",
            "10/10 [==============================] - 72s 7s/step - loss: 0.0077 - acc: 0.9968 - val_loss: 0.3495 - val_acc: 0.9231\n",
            "Epoch 26/30\n",
            "10/10 [==============================] - 69s 7s/step - loss: 0.0016 - acc: 1.0000 - val_loss: 0.3579 - val_acc: 0.9231\n",
            "Epoch 27/30\n",
            "10/10 [==============================] - 74s 7s/step - loss: 0.0023 - acc: 1.0000 - val_loss: 0.3585 - val_acc: 0.9231\n",
            "Epoch 28/30\n",
            "10/10 [==============================] - 73s 7s/step - loss: 0.0035 - acc: 1.0000 - val_loss: 0.4009 - val_acc: 0.8974\n",
            "Epoch 29/30\n",
            "10/10 [==============================] - 70s 7s/step - loss: 0.0025 - acc: 1.0000 - val_loss: 0.4439 - val_acc: 0.8974\n",
            "Epoch 30/30\n",
            "10/10 [==============================] - 69s 7s/step - loss: 0.0011 - acc: 1.0000 - val_loss: 0.4033 - val_acc: 0.8974\n"
          ]
        },
        {
          "data": {
            "text/plain": [
              "<keras.src.callbacks.History at 0x79e7921d1750>"
            ]
          },
          "execution_count": 11,
          "metadata": {},
          "output_type": "execute_result"
        }
      ],
      "source": [
        "CNN_model.fit(X_train, y_train, batch_size=32, epochs=30, validation_data=(X_val, y_val))"
      ]
    },
    {
      "cell_type": "code",
      "execution_count": null,
      "metadata": {
        "colab": {
          "base_uri": "https://localhost:8080/",
          "height": 1000
        },
        "id": "IDqTX5U7Q1ih",
        "outputId": "2f794037-c92b-4a97-d767-ab83e7c30fb8"
      },
      "outputs": [
        {
          "name": "stdout",
          "output_type": "stream",
          "text": [
            "2/2 [==============================] - 2s 291ms/step\n"
          ]
        },
        {
          "data": {
            "image/png": "[encoded data removed]",
            "text/plain": [
              "<Figure size 640x480 with 1 Axes>"
            ]
          },
          "metadata": {},
          "output_type": "display_data"
        },
        {
          "name": "stdout",
          "output_type": "stream",
          "text": [
            "\n",
            "Predicted and Actual Values:\n",
            "\n",
            "Predicted class: [0] \tActual class: 0\n",
            "Predicted class: [0] \tActual class: 0\n",
            "Predicted class: [0] \tActual class: 0\n",
            "Predicted class: [1] \tActual class: 1\n",
            "Predicted class: [0] \tActual class: 0\n",
            "Predicted class: [1] \tActual class: 1\n",
            "Predicted class: [0] \tActual class: 0\n",
            "Predicted class: [0] \tActual class: 0\n",
            "Predicted class: [1] \tActual class: 1\n",
            "Predicted class: [1] \tActual class: 1\n",
            "Predicted class: [0] \tActual class: 0\n",
            "Predicted class: [0] \tActual class: 0\n",
            "Predicted class: [0] \tActual class: 0\n",
            "Predicted class: [0] \tActual class: 0\n",
            "Predicted class: [0] \tActual class: 0\n",
            "Predicted class: [1] \tActual class: 1\n",
            "Predicted class: [0] \tActual class: 0\n",
            "Predicted class: [1] \tActual class: 1\n",
            "Predicted class: [0] \tActual class: 0\n",
            "Predicted class: [0] \tActual class: 0\n",
            "Predicted class: [0] \tActual class: 0\n",
            "Predicted class: [0] \tActual class: 0\n",
            "Predicted class: [0] \tActual class: 0\n",
            "Predicted class: [0] \tActual class: 1\n",
            "Predicted class: [1] \tActual class: 1\n",
            "Predicted class: [1] \tActual class: 1\n",
            "Predicted class: [0] \tActual class: 1\n",
            "Predicted class: [1] \tActual class: 1\n",
            "Predicted class: [1] \tActual class: 1\n",
            "Predicted class: [1] \tActual class: 1\n",
            "Predicted class: [0] \tActual class: 0\n",
            "Predicted class: [0] \tActual class: 0\n",
            "Predicted class: [0] \tActual class: 0\n",
            "Predicted class: [1] \tActual class: 1\n",
            "Predicted class: [0] \tActual class: 0\n",
            "Predicted class: [1] \tActual class: 1\n",
            "Predicted class: [0] \tActual class: 0\n",
            "Predicted class: [1] \tActual class: 1\n",
            "Predicted class: [0] \tActual class: 0\n",
            "\n",
            " Test accuracy: 0.9487179517745972\n",
            "\n",
            " Test loss: 0.12233522534370422\n"
          ]
        }
      ],
      "source": [
        "from sklearn.metrics import confusion_matrix\n",
        "import seaborn as sns\n",
        "import matplotlib.pyplot as plt\n",
        "import pandas as pd\n",
        "\n",
        "y_pred = CNN_model.predict(X_test)\n",
        "threshold = 0.5\n",
        "y_pred_binary = (y_pred >= threshold).astype(int)\n",
        "\n",
        "#create a confusion matrix\n",
        "cm = confusion_matrix(y_test, y_pred_binary)\n",
        "\n",
        "#convert the confusion matrix to a pandas DataFrame\n",
        "cm_df = pd.DataFrame(cm, index=['Actual Class 0', 'Actual Class 1'], columns=['Predicted Class 0', 'Predicted Class 1'])\n",
        "\n",
        "#plot the confusion matrix using seaborn\n",
        "sns.heatmap(cm_df, annot=True, fmt=\"d\", cmap=\"Blues\", cbar=False)\n",
        "plt.title(\"Confusion Matrix\")\n",
        "plt.xlabel(\"Predicted Labels\")\n",
        "plt.ylabel(\"True Labels\")\n",
        "plt.show()\n",
        "print('')\n",
        "\n",
        "#print the predicted class and the actual class\n",
        "print('Predicted and Actual Values:')\n",
        "print('')\n",
        "for i in range(len(y_test)):\n",
        "    print('Predicted class:', y_pred_binary[i], '\\tActual class:', y_test[i])\n",
        "\n",
        "score = CNN_model.evaluate(X_test, y_test, verbose=0)\n",
        "\n",
        "#print test accuracy\n",
        "print('\\n', 'Test accuracy:', score[1])\n",
        "print('\\n', 'Test loss:', score[0])"
      ]
    },
    {
      "cell_type": "markdown",
      "metadata": {
        "id": "NAAh072qRvgh"
      },
      "source": [
        "# Contrast Stretching and Segmentation"
      ]
    },
    {
      "cell_type": "code",
      "execution_count": null,
      "metadata": {
        "id": "in39pGc2k-sT"
      },
      "outputs": [],
      "source": [
        "import zipfile\n",
        "\n",
        "#extract the dataset from the zip file\n",
        "with zipfile.ZipFile('/content/contrast_stretch_segmentation.zip', 'r') as zip_ref:\n",
        "    zip_ref.extractall('/content')"
      ]
    },
    {
      "cell_type": "code",
      "execution_count": null,
      "metadata": {
        "colab": {
          "base_uri": "https://localhost:8080/"
        },
        "id": "ajWZu1KbR5UB",
        "outputId": "18cf049d-aba3-48cd-8424-e61cb9eaf34d"
      },
      "outputs": [
        {
          "name": "stdout",
          "output_type": "stream",
          "text": [
            "X shape: (390, 240, 240, 3, 1)\n",
            "y shape: (390,)\n"
          ]
        }
      ],
      "source": [
        "import os\n",
        "import cv2\n",
        "import numpy as np\n",
        "\n",
        "image_dir2 = '/content/contrast_stretch_segmentation'\n",
        "\n",
        "image_files = os.listdir(image_dir2)\n",
        "\n",
        "#sort the image files alphabetically\n",
        "image_files.sort()\n",
        "\n",
        "#create empty arrays for images (X) and labels (y)\n",
        "X = []\n",
        "y = []\n",
        "\n",
        "#load images and labels\n",
        "for filename in image_files:\n",
        "    image_path = os.path.join(image_dir2, filename)\n",
        "    image = cv2.imread(image_path)\n",
        "    if image is not None:\n",
        "        image = cv2.resize(image, (240, 240))\n",
        "        X.append(image)\n",
        "        if 'cont_stretching_segmentationN' in filename:\n",
        "            y.append(0)\n",
        "        elif 'cont_stretching_segmentationY' in filename:\n",
        "            y.append(1)\n",
        "\n",
        "#convert the lists to NumPy arrays\n",
        "X = np.array(X)\n",
        "y = np.array(y)\n",
        "X = np.expand_dims(X, axis=-1)\n",
        "\n",
        "#print the shape of the arrays\n",
        "print('X shape:', X.shape)\n",
        "print('y shape:', y.shape)"
      ]
    },
    {
      "cell_type": "code",
      "execution_count": null,
      "metadata": {
        "id": "Uyhhr4ijSY-U"
      },
      "outputs": [],
      "source": [
        "from sklearn.utils import shuffle\n",
        "#shuffle the data\n",
        "X, y = shuffle(X, y)"
      ]
    },
    {
      "cell_type": "code",
      "execution_count": null,
      "metadata": {
        "id": "p9k9GY41Scd3"
      },
      "outputs": [],
      "source": [
        "from sklearn.model_selection import train_test_split\n",
        "def split_data(X, y, test_size):\n",
        "\n",
        "    X_train, X_test_val, y_train, y_test_val = train_test_split(X, y, test_size=test_size)\n",
        "    X_test, X_val, y_test, y_val = train_test_split(X_test_val, y_test_val, test_size=0.5)\n",
        "\n",
        "    return X_train, y_train, X_val, y_val, X_test, y_test"
      ]
    },
    {
      "cell_type": "code",
      "execution_count": null,
      "metadata": {
        "id": "7F-uKV-LSePe"
      },
      "outputs": [],
      "source": [
        "X_train, y_train, X_val, y_val, X_test, y_test = split_data(X, y, 0.2)"
      ]
    },
    {
      "cell_type": "code",
      "execution_count": null,
      "metadata": {
        "colab": {
          "base_uri": "https://localhost:8080/"
        },
        "id": "z6VzRb-oSgM_",
        "outputId": "34ae457b-fd7e-4694-f737-67b63f9128db"
      },
      "outputs": [
        {
          "name": "stdout",
          "output_type": "stream",
          "text": [
            "number of training examples = 312\n",
            "number of validation examples = 39\n",
            "number of test examples = 39\n"
          ]
        }
      ],
      "source": [
        "print (\"number of training examples = \" + str(X_train.shape[0]))\n",
        "print (\"number of validation examples = \" + str(X_val.shape[0]))\n",
        "print (\"number of test examples = \" + str(X_test.shape[0]))"
      ]
    },
    {
      "cell_type": "code",
      "execution_count": null,
      "metadata": {
        "id": "f-B2Z7tiz1cj"
      },
      "outputs": [],
      "source": [
        "import tensorflow as tf\n",
        "from tensorflow.keras.layers import Conv2D,Input,ZeroPadding2D,BatchNormalization,Flatten,Activation,Dense,MaxPooling2D,Dropout"
      ]
    },
    {
      "cell_type": "code",
      "execution_count": null,
      "metadata": {
        "colab": {
          "base_uri": "https://localhost:8080/"
        },
        "id": "yS7YG6tHSiLq",
        "outputId": "5ab709bc-1f58-4cea-e7a3-21f4965d243b"
      },
      "outputs": [
        {
          "name": "stdout",
          "output_type": "stream",
          "text": [
            "Model: \"sequential\"\n",
            "_________________________________________________________________\n",
            " Layer (type)                Output Shape              Param #   \n",
            "=================================================================\n",
            " conv2d (Conv2D)             (None, 240, 240, 16)      3904      \n",
            "                                                                 \n",
            " max_pooling2d (MaxPooling2  (None, 120, 120, 16)      0         \n",
            " D)                                                              \n",
            "                                                                 \n",
            " dropout (Dropout)           (None, 120, 120, 16)      0         \n",
            "                                                                 \n",
            " conv2d_1 (Conv2D)           (None, 120, 120, 16)      20752     \n",
            "                                                                 \n",
            " max_pooling2d_1 (MaxPoolin  (None, 60, 60, 16)        0         \n",
            " g2D)                                                            \n",
            "                                                                 \n",
            " dropout_1 (Dropout)         (None, 60, 60, 16)        0         \n",
            "                                                                 \n",
            " conv2d_2 (Conv2D)           (None, 60, 60, 36)        46692     \n",
            "                                                                 \n",
            " max_pooling2d_2 (MaxPoolin  (None, 30, 30, 36)        0         \n",
            " g2D)                                                            \n",
            "                                                                 \n",
            " dropout_2 (Dropout)         (None, 30, 30, 36)        0         \n",
            "                                                                 \n",
            " flatten (Flatten)           (None, 32400)             0         \n",
            "                                                                 \n",
            " dense (Dense)               (None, 512)               16589312  \n",
            "                                                                 \n",
            " dropout_3 (Dropout)         (None, 512)               0         \n",
            "                                                                 \n",
            " dense_1 (Dense)             (None, 1)                 513       \n",
            "                                                                 \n",
            "=================================================================\n",
            "Total params: 16661173 (63.56 MB)\n",
            "Trainable params: 16661173 (63.56 MB)\n",
            "Non-trainable params: 0 (0.00 Byte)\n",
            "_________________________________________________________________\n"
          ]
        }
      ],
      "source": [
        "CNN_model2= tf.keras.Sequential()\n",
        "\n",
        "CNN_model2.add(Conv2D(filters=16,kernel_size=9, padding='same', activation='relu', input_shape=(240,240,3)))\n",
        "CNN_model2.add(MaxPooling2D(pool_size=2))\n",
        "CNN_model2.add(Dropout(0.45))\n",
        "\n",
        "CNN_model2.add(Conv2D(filters=16,kernel_size=9,padding='same', activation='relu'))\n",
        "CNN_model2.add(MaxPooling2D(pool_size=2))\n",
        "CNN_model2.add(Dropout(0.25))\n",
        "\n",
        "CNN_model2.add(Conv2D(filters=36, kernel_size=9, padding='same', activation='relu'))\n",
        "CNN_model2.add(MaxPooling2D(pool_size=2))\n",
        "CNN_model2.add(Dropout(0.25))\n",
        "\n",
        "CNN_model2.add(Flatten())\n",
        "\n",
        "CNN_model2.add(Dense(512, activation='relu'))\n",
        "CNN_model2.add(Dropout(0.15))\n",
        "\n",
        "\n",
        "CNN_model2.add(Dense(1, activation='sigmoid'))\n",
        "\n",
        "CNN_model2.summary()"
      ]
    },
    {
      "cell_type": "code",
      "execution_count": null,
      "metadata": {
        "id": "CQ6qHQA7SsMG"
      },
      "outputs": [],
      "source": [
        "CNN_model2.compile(loss='binary_crossentropy', optimizer=tf.keras.optimizers.Adam(), metrics=['acc'])"
      ]
    },
    {
      "cell_type": "code",
      "execution_count": null,
      "metadata": {
        "colab": {
          "base_uri": "https://localhost:8080/"
        },
        "id": "0RbpdY8dIBGW",
        "outputId": "db248863-e014-440d-a31f-8d49f1f83cb3"
      },
      "outputs": [
        {
          "name": "stdout",
          "output_type": "stream",
          "text": [
            "Epoch 1/30\n",
            "16/16 [==============================] - 89s 6s/step - loss: 446.9353 - acc: 0.6058 - val_loss: 0.6059 - val_acc: 0.6923\n",
            "Epoch 2/30\n",
            "16/16 [==============================] - 77s 5s/step - loss: 0.5685 - acc: 0.6731 - val_loss: 0.5250 - val_acc: 0.6667\n",
            "Epoch 3/30\n",
            "16/16 [==============================] - 80s 5s/step - loss: 0.4996 - acc: 0.7596 - val_loss: 0.4617 - val_acc: 0.8462\n",
            "Epoch 4/30\n",
            "16/16 [==============================] - 79s 5s/step - loss: 0.3952 - acc: 0.8141 - val_loss: 0.4108 - val_acc: 0.8462\n",
            "Epoch 5/30\n",
            "16/16 [==============================] - 80s 5s/step - loss: 0.3257 - acc: 0.8494 - val_loss: 0.3895 - val_acc: 0.8205\n",
            "Epoch 6/30\n",
            "16/16 [==============================] - 79s 5s/step - loss: 0.2572 - acc: 0.8974 - val_loss: 0.3766 - val_acc: 0.8462\n",
            "Epoch 7/30\n",
            "16/16 [==============================] - 79s 5s/step - loss: 0.2079 - acc: 0.9231 - val_loss: 0.3611 - val_acc: 0.8718\n",
            "Epoch 8/30\n",
            "16/16 [==============================] - 79s 5s/step - loss: 0.1631 - acc: 0.9391 - val_loss: 0.3728 - val_acc: 0.8718\n",
            "Epoch 9/30\n",
            "16/16 [==============================] - 84s 5s/step - loss: 0.1416 - acc: 0.9423 - val_loss: 0.3437 - val_acc: 0.9231\n",
            "Epoch 10/30\n",
            "16/16 [==============================] - 79s 5s/step - loss: 0.1638 - acc: 0.9391 - val_loss: 0.3447 - val_acc: 0.8974\n",
            "Epoch 11/30\n",
            "16/16 [==============================] - 79s 5s/step - loss: 0.1490 - acc: 0.9455 - val_loss: 0.3251 - val_acc: 0.8718\n",
            "Epoch 12/30\n",
            "16/16 [==============================] - 82s 5s/step - loss: 0.1057 - acc: 0.9679 - val_loss: 0.3271 - val_acc: 0.8974\n",
            "Epoch 13/30\n",
            "16/16 [==============================] - 80s 5s/step - loss: 0.1001 - acc: 0.9615 - val_loss: 0.3370 - val_acc: 0.9231\n",
            "Epoch 14/30\n",
            "16/16 [==============================] - 79s 5s/step - loss: 0.0642 - acc: 0.9808 - val_loss: 0.2880 - val_acc: 0.8974\n",
            "Epoch 15/30\n",
            "16/16 [==============================] - 79s 5s/step - loss: 0.0543 - acc: 0.9808 - val_loss: 0.3156 - val_acc: 0.9231\n",
            "Epoch 16/30\n",
            "16/16 [==============================] - 77s 5s/step - loss: 0.0459 - acc: 0.9840 - val_loss: 0.3107 - val_acc: 0.8974\n",
            "Epoch 17/30\n",
            "16/16 [==============================] - 82s 5s/step - loss: 0.0322 - acc: 0.9936 - val_loss: 0.3161 - val_acc: 0.8974\n",
            "Epoch 18/30\n",
            "16/16 [==============================] - 78s 5s/step - loss: 0.0291 - acc: 0.9904 - val_loss: 0.2808 - val_acc: 0.8718\n",
            "Epoch 19/30\n",
            "16/16 [==============================] - 78s 5s/step - loss: 0.0260 - acc: 0.9936 - val_loss: 0.2770 - val_acc: 0.8974\n",
            "Epoch 20/30\n",
            "16/16 [==============================] - 80s 5s/step - loss: 0.0376 - acc: 0.9840 - val_loss: 0.2606 - val_acc: 0.8974\n",
            "Epoch 21/30\n",
            "16/16 [==============================] - 78s 5s/step - loss: 0.0215 - acc: 0.9936 - val_loss: 0.2871 - val_acc: 0.9231\n",
            "Epoch 22/30\n",
            "16/16 [==============================] - 80s 5s/step - loss: 0.0233 - acc: 0.9936 - val_loss: 0.3104 - val_acc: 0.9487\n",
            "Epoch 23/30\n",
            "16/16 [==============================] - 77s 5s/step - loss: 0.0155 - acc: 1.0000 - val_loss: 0.2785 - val_acc: 0.9231\n",
            "Epoch 24/30\n",
            "16/16 [==============================] - 82s 5s/step - loss: 0.0152 - acc: 0.9968 - val_loss: 0.2808 - val_acc: 0.9231\n",
            "Epoch 25/30\n",
            "16/16 [==============================] - 82s 5s/step - loss: 0.0114 - acc: 0.9968 - val_loss: 0.3131 - val_acc: 0.9231\n",
            "Epoch 26/30\n",
            "16/16 [==============================] - 82s 5s/step - loss: 0.0194 - acc: 0.9968 - val_loss: 0.2822 - val_acc: 0.8974\n",
            "Epoch 27/30\n",
            "16/16 [==============================] - 77s 5s/step - loss: 0.0193 - acc: 0.9904 - val_loss: 0.3553 - val_acc: 0.9487\n",
            "Epoch 28/30\n",
            "16/16 [==============================] - 83s 5s/step - loss: 0.0146 - acc: 0.9968 - val_loss: 0.4018 - val_acc: 0.8974\n",
            "Epoch 29/30\n",
            "16/16 [==============================] - 78s 5s/step - loss: 0.0202 - acc: 0.9904 - val_loss: 0.4326 - val_acc: 0.8974\n",
            "Epoch 30/30\n",
            "16/16 [==============================] - 82s 5s/step - loss: 0.0159 - acc: 0.9904 - val_loss: 0.3154 - val_acc: 0.8974\n"
          ]
        },
        {
          "data": {
            "text/plain": [
              "<keras.src.callbacks.History at 0x7b2323e7df60>"
            ]
          },
          "execution_count": 15,
          "metadata": {},
          "output_type": "execute_result"
        }
      ],
      "source": [
        "CNN_model2.fit(X_train, y_train, batch_size=20, epochs=30, validation_data=(X_val, y_val))"
      ]
    },
    {
      "cell_type": "code",
      "execution_count": null,
      "metadata": {
        "colab": {
          "base_uri": "https://localhost:8080/",
          "height": 1000
        },
        "id": "yjyQjWdqQ-FG",
        "outputId": "5d72c369-1760-4392-a53e-2fc6256e0d2a"
      },
      "outputs": [
        {
          "name": "stdout",
          "output_type": "stream",
          "text": [
            "2/2 [==============================] - 5s 932ms/step\n"
          ]
        },
        {
          "data": {
            "image/png": "[encoded data removed]",
            "text/plain": [
              "<Figure size 640x480 with 1 Axes>"
            ]
          },
          "metadata": {},
          "output_type": "display_data"
        },
        {
          "name": "stdout",
          "output_type": "stream",
          "text": [
            "\n",
            "Predicted and Actual Values\n",
            "\n",
            "Predicted class: [0] \tActual class: 0\n",
            "Predicted class: [0] \tActual class: 0\n",
            "Predicted class: [0] \tActual class: 0\n",
            "Predicted class: [0] \tActual class: 0\n",
            "Predicted class: [0] \tActual class: 0\n",
            "Predicted class: [0] \tActual class: 0\n",
            "Predicted class: [0] \tActual class: 0\n",
            "Predicted class: [1] \tActual class: 1\n",
            "Predicted class: [1] \tActual class: 1\n",
            "Predicted class: [1] \tActual class: 1\n",
            "Predicted class: [0] \tActual class: 1\n",
            "Predicted class: [1] \tActual class: 1\n",
            "Predicted class: [0] \tActual class: 0\n",
            "Predicted class: [0] \tActual class: 1\n",
            "Predicted class: [0] \tActual class: 0\n",
            "Predicted class: [0] \tActual class: 1\n",
            "Predicted class: [0] \tActual class: 0\n",
            "Predicted class: [0] \tActual class: 0\n",
            "Predicted class: [0] \tActual class: 0\n",
            "Predicted class: [1] \tActual class: 1\n",
            "Predicted class: [0] \tActual class: 0\n",
            "Predicted class: [1] \tActual class: 1\n",
            "Predicted class: [1] \tActual class: 1\n",
            "Predicted class: [0] \tActual class: 0\n",
            "Predicted class: [1] \tActual class: 1\n",
            "Predicted class: [0] \tActual class: 0\n",
            "Predicted class: [0] \tActual class: 1\n",
            "Predicted class: [0] \tActual class: 0\n",
            "Predicted class: [0] \tActual class: 1\n",
            "Predicted class: [0] \tActual class: 1\n",
            "Predicted class: [0] \tActual class: 0\n",
            "Predicted class: [1] \tActual class: 1\n",
            "Predicted class: [1] \tActual class: 1\n",
            "Predicted class: [0] \tActual class: 0\n",
            "Predicted class: [0] \tActual class: 0\n",
            "Predicted class: [1] \tActual class: 1\n",
            "Predicted class: [1] \tActual class: 1\n",
            "Predicted class: [1] \tActual class: 0\n",
            "Predicted class: [1] \tActual class: 1\n",
            "\n",
            " Test accuracy: 0.8205128312110901\n",
            "\n",
            " Test loss: 0.6086063385009766\n"
          ]
        }
      ],
      "source": [
        "from sklearn.metrics import confusion_matrix\n",
        "import seaborn as sns\n",
        "import matplotlib.pyplot as plt\n",
        "import pandas as pd\n",
        "\n",
        "y_pred = CNN_model2.predict(X_test)\n",
        "threshold = 0.5\n",
        "y_pred_binary = (y_pred >= threshold).astype(int)\n",
        "\n",
        "#create a confusion matrix\n",
        "cm = confusion_matrix(y_test, y_pred_binary)\n",
        "\n",
        "#convert the confusion matrix to a pandas DataFrame\n",
        "cm_df = pd.DataFrame(cm, index=['Actual Class 0', 'Actual Class 1'], columns=['Predicted Class 0', 'Predicted Class 1'])\n",
        "\n",
        "#plot the confusion matrix using seaborn\n",
        "sns.heatmap(cm_df, annot=True, fmt=\"d\", cmap=\"Blues\", cbar=False)\n",
        "plt.title(\"Confusion Matrix\")\n",
        "plt.xlabel(\"Predicted Labels\")\n",
        "plt.ylabel(\"True Labels\")\n",
        "plt.show()\n",
        "print('')\n",
        "\n",
        "#[rint the predicted class and the actual class\n",
        "print('Predicted and Actual Values')\n",
        "print('')\n",
        "for i in range(len(y_test)):\n",
        "    print('Predicted class:', y_pred_binary[i], '\\tActual class:', y_test[i])\n",
        "\n",
        "score = CNN_model2.evaluate(X_test, y_test, verbose=0)\n",
        "\n",
        "#print test accuracy\n",
        "print('\\n', 'Test accuracy:', score[1])\n",
        "print('\\n', 'Test loss:', score[0])"
      ]
    }
  ],
  "metadata": {
    "colab": {
      "provenance": []
    },
    "kernelspec": {
      "display_name": "Python 3",
      "name": "python3"
    },
    "language_info": {
      "name": "python"
    }
  },
  "nbformat": 4,
  "nbformat_minor": 0
}
