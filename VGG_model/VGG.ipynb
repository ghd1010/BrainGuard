{
  "cells": [
    {
      "cell_type": "markdown",
      "metadata": {
        "id": "5yeo4yWZBuWI"
      },
      "source": [
        "# Threshold"
      ]
    },
    {
      "cell_type": "code",
      "execution_count": null,
      "metadata": {
        "id": "Fn0FLeZaBsbg"
      },
      "outputs": [],
      "source": [
        "import zipfile\n",
        "\n",
        "#extract the dataset from the zip file\n",
        "with zipfile.ZipFile('/content/Threshold.zip', 'r') as zip_ref:\n",
        "    zip_ref.extractall('/content')"
      ]
    },
    {
      "cell_type": "code",
      "execution_count": null,
      "metadata": {
        "colab": {
          "base_uri": "https://localhost:8080/"
        },
        "id": "WS3V_exnTgMn",
        "outputId": "76c81db9-c65c-4977-db4e-84a47be13f6a"
      },
      "outputs": [
        {
          "name": "stdout",
          "output_type": "stream",
          "text": [
            "X shape: (390, 240, 240, 3, 1)\n",
            "y shape: (390,)\n"
          ]
        }
      ],
      "source": [
        "import os\n",
        "import cv2\n",
        "import numpy as np\n",
        "\n",
        "image_dir = '/content/Threshold'\n",
        "\n",
        "image_files = os.listdir(image_dir)\n",
        "\n",
        "#sort the image files alphabetically\n",
        "image_files.sort()\n",
        "\n",
        "#create empty arrays for images (X) and labels (y)\n",
        "X = []\n",
        "y = []\n",
        "\n",
        "#load images and labels\n",
        "for filename in image_files:\n",
        "    image_path = os.path.join(image_dir, filename)\n",
        "    image = cv2.imread(image_path)\n",
        "    if image is not None:\n",
        "        image = cv2.resize(image, (240, 240)) \n",
        "        X.append(image)\n",
        "        if 'thresholded_N' in filename:\n",
        "            y.append(0)\n",
        "        elif 'thresholded_Y' in filename:\n",
        "            y.append(1)\n",
        "\n",
        "#convert the lists to NumPy arrays\n",
        "X = np.array(X)\n",
        "y = np.array(y)\n",
        "X = np.expand_dims(X, axis=-1) \n",
        "\n",
        "#print the shape of the arrays\n",
        "print('X shape:', X.shape)\n",
        "print('y shape:', y.shape)"
      ]
    },
    {
      "cell_type": "code",
      "execution_count": null,
      "metadata": {
        "id": "tvqoExQ8UIfc"
      },
      "outputs": [],
      "source": [
        "from sklearn.utils import shuffle \n",
        "#shuffle the data\n",
        "X, y = shuffle(X, y)"
      ]
    },
    {
      "cell_type": "code",
      "execution_count": null,
      "metadata": {
        "id": "TBpClQaGUKsi"
      },
      "outputs": [],
      "source": [
        "from sklearn.model_selection import train_test_split\n",
        "def split_data(X, y, test_size):\n",
        "\n",
        "    X_train, X_test_val, y_train, y_test_val = train_test_split(X, y, test_size=test_size)\n",
        "    X_test, X_val, y_test, y_val = train_test_split(X_test_val, y_test_val, test_size=0.5)\n",
        "\n",
        "    return X_train, y_train, X_val, y_val, X_test, y_test"
      ]
    },
    {
      "cell_type": "code",
      "execution_count": null,
      "metadata": {
        "id": "Z2V60lXFUMbg"
      },
      "outputs": [],
      "source": [
        "X_train, y_train, X_val, y_val, X_test, y_test = split_data(X, y, 0.2)"
      ]
    },
    {
      "cell_type": "code",
      "execution_count": null,
      "metadata": {
        "colab": {
          "base_uri": "https://localhost:8080/"
        },
        "id": "NOYKqDRMUNGP",
        "outputId": "90e63ac7-7c02-40c0-e165-109c6c65404d"
      },
      "outputs": [
        {
          "name": "stdout",
          "output_type": "stream",
          "text": [
            "number of training examples = 312\n",
            "number of validation examples = 39\n",
            "number of test examples = 39\n"
          ]
        }
      ],
      "source": [
        "print (\"number of training examples = \" + str(X_train.shape[0]))\n",
        "print (\"number of validation examples = \" + str(X_val.shape[0]))\n",
        "print (\"number of test examples = \" + str(X_test.shape[0]))"
      ]
    },
    {
      "cell_type": "code",
      "execution_count": null,
      "metadata": {
        "id": "ddQMR8B0UOl8"
      },
      "outputs": [],
      "source": [
        "import tensorflow as tf\n",
        "from tensorflow.keras.layers import Conv2D,Input,ZeroPadding2D,BatchNormalization,Flatten,Activation,Dense,MaxPooling2D,Dropout"
      ]
    },
    {
      "cell_type": "code",
      "execution_count": null,
      "metadata": {
        "colab": {
          "base_uri": "https://localhost:8080/"
        },
        "id": "b2nDvQ8wUQfB",
        "outputId": "5dbf5afa-e79c-4039-f1f0-14feebb2e1c9"
      },
      "outputs": [
        {
          "name": "stdout",
          "output_type": "stream",
          "text": [
            "Downloading data from https://storage.googleapis.com/tensorflow/keras-applications/vgg16/vgg16_weights_tf_dim_ordering_tf_kernels_notop.h5\n",
            "58889256/58889256 [==============================] - 0s 0us/step\n"
          ]
        }
      ],
      "source": [
        "from keras.applications.vgg16 import VGG16, preprocess_input\n",
        "\n",
        "IMG_WIDTH, IMG_HEIGHT = (240, 240)\n",
        "IMG_SHAPE = (IMG_WIDTH, IMG_HEIGHT, 3)\n",
        "vgg16_weight_path = 'imagenet'\n",
        "vgg16_model = VGG16(\n",
        "    weights=vgg16_weight_path,\n",
        "    include_top=False,\n",
        "    input_shape=IMG_SHAPE\n",
        ")"
      ]
    },
    {
      "cell_type": "code",
      "execution_count": null,
      "metadata": {
        "colab": {
          "base_uri": "https://localhost:8080/"
        },
        "id": "-HW9YqtUUU5v",
        "outputId": "a8f30f45-be0a-4a99-8feb-3802f4858d7c"
      },
      "outputs": [
        {
          "name": "stderr",
          "output_type": "stream",
          "text": [
            "WARNING:absl:`lr` is deprecated in Keras optimizer, please use `learning_rate` or use the legacy optimizer, e.g.,tf.keras.optimizers.legacy.RMSprop.\n"
          ]
        },
        {
          "name": "stdout",
          "output_type": "stream",
          "text": [
            "Model: \"sequential\"\n",
            "_________________________________________________________________\n",
            " Layer (type)                Output Shape              Param #   \n",
            "=================================================================\n",
            " vgg16 (Functional)          (None, 7, 7, 512)         14714688  \n",
            "                                                                 \n",
            " flatten (Flatten)           (None, 25088)             0         \n",
            "                                                                 \n",
            " dropout (Dropout)           (None, 25088)             0         \n",
            "                                                                 \n",
            " dense (Dense)               (None, 1)                 25089     \n",
            "                                                                 \n",
            "=================================================================\n",
            "Total params: 14739777 (56.23 MB)\n",
            "Trainable params: 25089 (98.00 KB)\n",
            "Non-trainable params: 14714688 (56.13 MB)\n",
            "_________________________________________________________________\n"
          ]
        }
      ],
      "source": [
        "from keras.models import Sequential\n",
        "from keras import layers\n",
        "from keras.optimizers import Adam, RMSprop\n",
        "\n",
        "VGGmodel = Sequential()\n",
        "VGGmodel.add(vgg16_model)\n",
        "VGGmodel.add(layers.Flatten())\n",
        "VGGmodel.add(layers.Dropout(0.5))\n",
        "VGGmodel.add(layers.Dense(1, activation='sigmoid'))\n",
        "\n",
        "VGGmodel.layers[0].trainable = False\n",
        "\n",
        "VGGmodel.compile(\n",
        "    loss='binary_crossentropy',\n",
        "    optimizer=RMSprop(lr=1e-4),\n",
        "    metrics=['accuracy']\n",
        ")\n",
        "\n",
        "VGGmodel.summary()"
      ]
    },
    {
      "cell_type": "code",
      "execution_count": null,
      "metadata": {
        "colab": {
          "base_uri": "https://localhost:8080/"
        },
        "id": "TfQcGVP5Ubqm",
        "outputId": "7d3c302a-9255-409e-cb31-6d74b73c5f1c"
      },
      "outputs": [
        {
          "name": "stdout",
          "output_type": "stream",
          "text": [
            "Epoch 1/22\n",
            "10/10 [==============================] - 281s 29s/step - loss: 4.6267 - accuracy: 0.6603 - val_loss: 3.6868 - val_accuracy: 0.6923\n",
            "Epoch 2/22\n",
            "10/10 [==============================] - 259s 26s/step - loss: 1.3231 - accuracy: 0.8782 - val_loss: 1.9719 - val_accuracy: 0.8974\n",
            "Epoch 3/22\n",
            "10/10 [==============================] - 251s 25s/step - loss: 0.7787 - accuracy: 0.9391 - val_loss: 1.4568 - val_accuracy: 0.8974\n",
            "Epoch 4/22\n",
            "10/10 [==============================] - 258s 26s/step - loss: 0.3060 - accuracy: 0.9776 - val_loss: 1.9733 - val_accuracy: 0.8462\n",
            "Epoch 5/22\n",
            "10/10 [==============================] - 257s 26s/step - loss: 0.2060 - accuracy: 0.9808 - val_loss: 1.7064 - val_accuracy: 0.9231\n",
            "Epoch 6/22\n",
            "10/10 [==============================] - 265s 27s/step - loss: 0.0199 - accuracy: 0.9968 - val_loss: 1.7205 - val_accuracy: 0.9231\n",
            "Epoch 7/22\n",
            "10/10 [==============================] - 258s 26s/step - loss: 0.1945 - accuracy: 0.9840 - val_loss: 2.0027 - val_accuracy: 0.8462\n",
            "Epoch 8/22\n",
            "10/10 [==============================] - 255s 26s/step - loss: 0.0749 - accuracy: 0.9840 - val_loss: 1.5137 - val_accuracy: 0.8718\n",
            "Epoch 9/22\n",
            "10/10 [==============================] - 257s 26s/step - loss: 0.0978 - accuracy: 0.9808 - val_loss: 1.3553 - val_accuracy: 0.8718\n",
            "Epoch 10/22\n",
            "10/10 [==============================] - 255s 26s/step - loss: 0.0458 - accuracy: 0.9872 - val_loss: 1.1620 - val_accuracy: 0.9231\n",
            "Epoch 11/22\n",
            "10/10 [==============================] - 238s 24s/step - loss: 0.0676 - accuracy: 0.9936 - val_loss: 2.9105 - val_accuracy: 0.7692\n",
            "Epoch 12/22\n",
            "10/10 [==============================] - 239s 24s/step - loss: 0.0166 - accuracy: 0.9904 - val_loss: 1.9710 - val_accuracy: 0.9231\n",
            "Epoch 13/22\n",
            "10/10 [==============================] - 254s 26s/step - loss: 0.0432 - accuracy: 0.9936 - val_loss: 1.8556 - val_accuracy: 0.9231\n",
            "Epoch 14/22\n",
            "10/10 [==============================] - 253s 26s/step - loss: 0.0329 - accuracy: 0.9936 - val_loss: 1.8482 - val_accuracy: 0.9231\n",
            "Epoch 15/22\n",
            "10/10 [==============================] - 253s 26s/step - loss: 0.0461 - accuracy: 0.9904 - val_loss: 2.1452 - val_accuracy: 0.8974\n",
            "Epoch 16/22\n",
            "10/10 [==============================] - 254s 26s/step - loss: 0.0282 - accuracy: 0.9936 - val_loss: 2.0669 - val_accuracy: 0.8974\n",
            "Epoch 17/22\n",
            "10/10 [==============================] - 258s 26s/step - loss: 0.0592 - accuracy: 0.9936 - val_loss: 2.0066 - val_accuracy: 0.8974\n",
            "Epoch 18/22\n",
            "10/10 [==============================] - 254s 26s/step - loss: 4.4533e-05 - accuracy: 1.0000 - val_loss: 2.1287 - val_accuracy: 0.8974\n",
            "Epoch 19/22\n",
            "10/10 [==============================] - 255s 26s/step - loss: 0.0175 - accuracy: 0.9936 - val_loss: 1.8079 - val_accuracy: 0.9231\n",
            "Epoch 20/22\n",
            "10/10 [==============================] - 256s 26s/step - loss: 0.0044 - accuracy: 1.0000 - val_loss: 1.6724 - val_accuracy: 0.9487\n",
            "Epoch 21/22\n",
            "10/10 [==============================] - 259s 26s/step - loss: 5.6358e-04 - accuracy: 1.0000 - val_loss: 1.6559 - val_accuracy: 0.9487\n",
            "Epoch 22/22\n",
            "10/10 [==============================] - 240s 24s/step - loss: 0.0316 - accuracy: 0.9936 - val_loss: 1.8584 - val_accuracy: 0.9231\n"
          ]
        },
        {
          "data": {
            "text/plain": [
              "<keras.src.callbacks.History at 0x7fc249563af0>"
            ]
          },
          "execution_count": 10,
          "metadata": {},
          "output_type": "execute_result"
        }
      ],
      "source": [
        "VGGmodel.compile(optimizer='adam', loss='binary_crossentropy', metrics=['accuracy'])\n",
        "VGGmodel.fit(x=X_train, y=y_train, batch_size=32, epochs=22, validation_data=(X_val, y_val))"
      ]
    },
    {
      "cell_type": "code",
      "execution_count": null,
      "metadata": {
        "colab": {
          "base_uri": "https://localhost:8080/",
          "height": 1000
        },
        "id": "a0TMxLEsUizd",
        "outputId": "318c9cac-a8da-44a7-ba84-1dde18ff87bf"
      },
      "outputs": [
        {
          "name": "stdout",
          "output_type": "stream",
          "text": [
            "2/2 [==============================] - 26s 4s/step\n"
          ]
        },
        {
          "data": {
            "image/png": "[encoded data removed]",
            "text/plain": [
              "<Figure size 640x480 with 1 Axes>"
            ]
          },
          "metadata": {},
          "output_type": "display_data"
        },
        {
          "name": "stdout",
          "output_type": "stream",
          "text": [
            "\n",
            "Predicted and Actual Values\n",
            "Predicted class: [0] \tActual class: 0\n",
            "Predicted class: [1] \tActual class: 1\n",
            "Predicted class: [1] \tActual class: 1\n",
            "Predicted class: [1] \tActual class: 1\n",
            "Predicted class: [1] \tActual class: 1\n",
            "Predicted class: [1] \tActual class: 1\n",
            "Predicted class: [0] \tActual class: 0\n",
            "Predicted class: [0] \tActual class: 0\n",
            "Predicted class: [1] \tActual class: 0\n",
            "Predicted class: [1] \tActual class: 1\n",
            "Predicted class: [0] \tActual class: 0\n",
            "Predicted class: [0] \tActual class: 0\n",
            "Predicted class: [1] \tActual class: 1\n",
            "Predicted class: [1] \tActual class: 1\n",
            "Predicted class: [0] \tActual class: 0\n",
            "Predicted class: [0] \tActual class: 0\n",
            "Predicted class: [1] \tActual class: 1\n",
            "Predicted class: [1] \tActual class: 1\n",
            "Predicted class: [1] \tActual class: 1\n",
            "Predicted class: [1] \tActual class: 1\n",
            "Predicted class: [1] \tActual class: 1\n",
            "Predicted class: [1] \tActual class: 1\n",
            "Predicted class: [1] \tActual class: 1\n",
            "Predicted class: [1] \tActual class: 1\n",
            "Predicted class: [0] \tActual class: 0\n",
            "Predicted class: [0] \tActual class: 0\n",
            "Predicted class: [0] \tActual class: 0\n",
            "Predicted class: [1] \tActual class: 1\n",
            "Predicted class: [1] \tActual class: 0\n",
            "Predicted class: [0] \tActual class: 0\n",
            "Predicted class: [1] \tActual class: 1\n",
            "Predicted class: [1] \tActual class: 1\n",
            "Predicted class: [1] \tActual class: 0\n",
            "Predicted class: [0] \tActual class: 0\n",
            "Predicted class: [0] \tActual class: 0\n",
            "Predicted class: [0] \tActual class: 0\n",
            "Predicted class: [0] \tActual class: 0\n",
            "Predicted class: [1] \tActual class: 1\n",
            "Predicted class: [0] \tActual class: 0\n",
            "\n",
            " Test accuracy: 0.9230769276618958\n",
            "\n",
            " Test loss: 2.4022815227508545\n"
          ]
        }
      ],
      "source": [
        "from sklearn.metrics import confusion_matrix\n",
        "import seaborn as sns\n",
        "import matplotlib.pyplot as plt\n",
        "import pandas as pd\n",
        "\n",
        "y_pred = VGGmodel.predict(X_test)\n",
        "threshold = 0.5\n",
        "y_pred_binary = (y_pred >= threshold).astype(int)\n",
        "\n",
        "#create a confusion matrix\n",
        "cm = confusion_matrix(y_test, y_pred_binary)\n",
        "\n",
        "#convert the confusion matrix to a pandas DataFrame\n",
        "cm_df = pd.DataFrame(cm, index=['Actual Class 0', 'Actual Class 1'], columns=['Predicted Class 0', 'Predicted Class 1'])\n",
        "\n",
        "#plot the confusion matrix using seaborn\n",
        "sns.heatmap(cm_df, annot=True, fmt=\"d\", cmap=\"Blues\", cbar=False)\n",
        "plt.title(\"Confusion Matrix\")\n",
        "plt.xlabel(\"Predicted Labels\")\n",
        "plt.ylabel(\"True Labels\")\n",
        "plt.show()\n",
        "print('')\n",
        "\n",
        "#print the predicted class and the actual class\n",
        "print('Predicted and Actual Values')\n",
        "for i in range(len(y_test)):\n",
        "    print('Predicted class:', y_pred_binary[i], '\\tActual class:', y_test[i])\n",
        "\n",
        "score = VGGmodel.evaluate(X_test, y_test, verbose=0)\n",
        "\n",
        "#print test accuracy\n",
        "print('\\n', 'Test accuracy:', score[1])\n",
        "print('\\n', 'Test loss:', score[0])"
      ]
    },
    {
      "cell_type": "markdown",
      "metadata": {
        "id": "7QpKgN8SYv8w"
      },
      "source": [
        "# Contrast Stretching and Segmentation"
      ]
    },
    {
      "cell_type": "code",
      "execution_count": 1,
      "metadata": {
        "id": "JaphseRSYyL8"
      },
      "outputs": [],
      "source": [
        "import zipfile\n",
        "\n",
        "#extract the dataset from the zip file\n",
        "with zipfile.ZipFile('/content/contrast_stretch_segmentation.zip', 'r') as zip_ref:\n",
        "    zip_ref.extractall('/content')"
      ]
    },
    {
      "cell_type": "code",
      "execution_count": 2,
      "metadata": {
        "colab": {
          "base_uri": "https://localhost:8080/"
        },
        "id": "jEnc-k9iZdJx",
        "outputId": "ec2e11b3-1727-4dbc-ce3b-aee5a0ea4994"
      },
      "outputs": [
        {
          "name": "stdout",
          "output_type": "stream",
          "text": [
            "X shape: (390, 240, 240, 3, 1)\n",
            "y shape: (390,)\n"
          ]
        }
      ],
      "source": [
        "import os\n",
        "import cv2\n",
        "import numpy as np\n",
        "\n",
        "image_dir = '/content/contrast_stretch_segmentation'\n",
        "\n",
        "image_files = os.listdir(image_dir)\n",
        "\n",
        "#sort the image files alphabetically\n",
        "image_files.sort()\n",
        "\n",
        "#create empty arrays for images (X) and labels (y)\n",
        "X = []\n",
        "y = []\n",
        "\n",
        "#load images and labels\n",
        "for filename in image_files:\n",
        "    image_path = os.path.join(image_dir, filename)\n",
        "    image = cv2.imread(image_path)\n",
        "    if image is not None:\n",
        "        image = cv2.resize(image, (240, 240))  \n",
        "        X.append(image)\n",
        "        if 'cont_stretching_segmentationN' in filename:\n",
        "            y.append(0)\n",
        "        elif 'cont_stretching_segmentationY' in filename:\n",
        "            y.append(1)\n",
        "\n",
        "#convert the lists to NumPy arrays\n",
        "X = np.array(X)\n",
        "y = np.array(y)\n",
        "X = np.expand_dims(X, axis=-1)  \n",
        "\n",
        "#print the shape of the arrays\n",
        "print('X shape:', X.shape)\n",
        "print('y shape:', y.shape)"
      ]
    },
    {
      "cell_type": "code",
      "execution_count": 3,
      "metadata": {
        "id": "0EAfLH3PZdz8"
      },
      "outputs": [],
      "source": [
        "from sklearn.utils import shuffle \n",
        "#shuffle the data\n",
        "X, y = shuffle(X, y)"
      ]
    },
    {
      "cell_type": "code",
      "execution_count": 4,
      "metadata": {
        "id": "APm1OMdrZgn5"
      },
      "outputs": [],
      "source": [
        "from sklearn.model_selection import train_test_split\n",
        "def split_data(X, y, test_size):\n",
        "\n",
        "    X_train, X_test_val, y_train, y_test_val = train_test_split(X, y, test_size=test_size)\n",
        "    X_test, X_val, y_test, y_val = train_test_split(X_test_val, y_test_val, test_size=0.5)\n",
        "\n",
        "    return X_train, y_train, X_val, y_val, X_test, y_test"
      ]
    },
    {
      "cell_type": "code",
      "execution_count": 5,
      "metadata": {
        "id": "D-s4JZZKZi_Y"
      },
      "outputs": [],
      "source": [
        "X_train, y_train, X_val, y_val, X_test, y_test = split_data(X, y, 0.2)"
      ]
    },
    {
      "cell_type": "code",
      "execution_count": 6,
      "metadata": {
        "colab": {
          "base_uri": "https://localhost:8080/"
        },
        "id": "zgk3_nHiZoZM",
        "outputId": "120dc8b3-91c4-4a43-8e28-8e80152369f0"
      },
      "outputs": [
        {
          "name": "stdout",
          "output_type": "stream",
          "text": [
            "number of training examples = 312\n",
            "number of validation examples = 39\n",
            "number of test examples = 39\n"
          ]
        }
      ],
      "source": [
        "print (\"number of training examples = \" + str(X_train.shape[0]))\n",
        "print (\"number of validation examples = \" + str(X_val.shape[0]))\n",
        "print (\"number of test examples = \" + str(X_test.shape[0]))"
      ]
    },
    {
      "cell_type": "code",
      "execution_count": 7,
      "metadata": {
        "id": "BdGT4SZHZrhj"
      },
      "outputs": [],
      "source": [
        "import tensorflow as tf\n",
        "from tensorflow.keras.layers import Conv2D,Input,ZeroPadding2D,BatchNormalization,Flatten,Activation,Dense,MaxPooling2D,Dropout"
      ]
    },
    {
      "cell_type": "code",
      "execution_count": 8,
      "metadata": {
        "colab": {
          "base_uri": "https://localhost:8080/"
        },
        "id": "DrzFTSONZvwo",
        "outputId": "00b13e84-72bb-4210-fe85-aab7bd44c36f"
      },
      "outputs": [
        {
          "name": "stdout",
          "output_type": "stream",
          "text": [
            "Downloading data from https://storage.googleapis.com/tensorflow/keras-applications/vgg16/vgg16_weights_tf_dim_ordering_tf_kernels_notop.h5\n",
            "58889256/58889256 [==============================] - 3s 0us/step\n"
          ]
        }
      ],
      "source": [
        "from keras.applications.vgg16 import VGG16, preprocess_input\n",
        "\n",
        "IMG_WIDTH, IMG_HEIGHT = (240, 240)\n",
        "IMG_SHAPE = (IMG_WIDTH, IMG_HEIGHT, 3)\n",
        "vgg16_weight_path = 'imagenet'\n",
        "vgg16_model = VGG16(\n",
        "    weights=vgg16_weight_path,\n",
        "    include_top=False,\n",
        "    input_shape=IMG_SHAPE\n",
        ")"
      ]
    },
    {
      "cell_type": "code",
      "execution_count": 10,
      "metadata": {
        "colab": {
          "base_uri": "https://localhost:8080/"
        },
        "id": "bYfmAp-vZ05o",
        "outputId": "3976f90a-4a15-49ce-972b-53d4febabfbf"
      },
      "outputs": [
        {
          "name": "stdout",
          "output_type": "stream",
          "text": [
            "Model: \"sequential_1\"\n",
            "_________________________________________________________________\n",
            " Layer (type)                Output Shape              Param #   \n",
            "=================================================================\n",
            " vgg16 (Functional)          (None, 7, 7, 512)         14714688  \n",
            "                                                                 \n",
            " flatten_1 (Flatten)         (None, 25088)             0         \n",
            "                                                                 \n",
            " dropout_1 (Dropout)         (None, 25088)             0         \n",
            "                                                                 \n",
            " dense_1 (Dense)             (None, 1)                 25089     \n",
            "                                                                 \n",
            "=================================================================\n",
            "Total params: 14739777 (56.23 MB)\n",
            "Trainable params: 25089 (98.00 KB)\n",
            "Non-trainable params: 14714688 (56.13 MB)\n",
            "_________________________________________________________________\n"
          ]
        }
      ],
      "source": [
        "from keras.models import Sequential\n",
        "from keras import layers\n",
        "from keras.optimizers import Adam, RMSprop\n",
        "\n",
        "VGGmodel2 = Sequential()\n",
        "VGGmodel2.add(vgg16_model)\n",
        "VGGmodel2.add(layers.Flatten())\n",
        "VGGmodel2.add(layers.Dropout(0.5))\n",
        "VGGmodel2.add(layers.Dense(1, activation='sigmoid'))\n",
        "\n",
        "VGGmodel2.layers[0].trainable = False\n",
        "\n",
        "VGGmodel2.compile(\n",
        "    loss='binary_crossentropy',\n",
        "    optimizer=RMSprop(learning_rate=1e-4),\n",
        "    metrics=['accuracy']\n",
        ")\n",
        "\n",
        "VGGmodel2.summary()"
      ]
    },
    {
      "cell_type": "code",
      "execution_count": 11,
      "metadata": {
        "colab": {
          "base_uri": "https://localhost:8080/"
        },
        "id": "oed4JoaUZ8Iw",
        "outputId": "83a4e642-c410-4fe9-f424-41a940d9c12f"
      },
      "outputs": [
        {
          "name": "stdout",
          "output_type": "stream",
          "text": [
            "Epoch 1/22\n",
            "10/10 [==============================] - 269s 27s/step - loss: 3.2919 - accuracy: 0.8109 - val_loss: 2.6462 - val_accuracy: 0.8205\n",
            "Epoch 2/22\n",
            "10/10 [==============================] - 259s 26s/step - loss: 1.2829 - accuracy: 0.9071 - val_loss: 3.5339 - val_accuracy: 0.7692\n",
            "Epoch 3/22\n",
            "10/10 [==============================] - 267s 27s/step - loss: 0.5345 - accuracy: 0.9519 - val_loss: 6.2421 - val_accuracy: 0.8462\n",
            "Epoch 4/22\n",
            "10/10 [==============================] - 263s 26s/step - loss: 0.4059 - accuracy: 0.9712 - val_loss: 3.3258 - val_accuracy: 0.8462\n",
            "Epoch 5/22\n",
            "10/10 [==============================] - 261s 27s/step - loss: 0.2013 - accuracy: 0.9776 - val_loss: 3.0347 - val_accuracy: 0.8718\n",
            "Epoch 6/22\n",
            "10/10 [==============================] - 262s 26s/step - loss: 0.0742 - accuracy: 0.9904 - val_loss: 3.7109 - val_accuracy: 0.8718\n",
            "Epoch 7/22\n",
            "10/10 [==============================] - 258s 26s/step - loss: 0.1557 - accuracy: 0.9872 - val_loss: 3.7063 - val_accuracy: 0.7949\n",
            "Epoch 8/22\n",
            "10/10 [==============================] - 263s 26s/step - loss: 0.1807 - accuracy: 0.9840 - val_loss: 2.7113 - val_accuracy: 0.8718\n",
            "Epoch 9/22\n",
            "10/10 [==============================] - 261s 27s/step - loss: 2.4896e-04 - accuracy: 1.0000 - val_loss: 2.6071 - val_accuracy: 0.9231\n",
            "Epoch 10/22\n",
            "10/10 [==============================] - 261s 27s/step - loss: 0.0021 - accuracy: 1.0000 - val_loss: 2.7019 - val_accuracy: 0.9231\n",
            "Epoch 11/22\n",
            "10/10 [==============================] - 260s 27s/step - loss: 0.0947 - accuracy: 0.9936 - val_loss: 3.5648 - val_accuracy: 0.8974\n",
            "Epoch 12/22\n",
            "10/10 [==============================] - 260s 26s/step - loss: 0.0812 - accuracy: 0.9872 - val_loss: 3.4779 - val_accuracy: 0.8462\n",
            "Epoch 13/22\n",
            "10/10 [==============================] - 263s 26s/step - loss: 0.0412 - accuracy: 0.9904 - val_loss: 3.7078 - val_accuracy: 0.8718\n",
            "Epoch 14/22\n",
            "10/10 [==============================] - 262s 27s/step - loss: 8.3034e-06 - accuracy: 1.0000 - val_loss: 4.3425 - val_accuracy: 0.8462\n",
            "Epoch 15/22\n",
            "10/10 [==============================] - 261s 26s/step - loss: 0.0085 - accuracy: 0.9968 - val_loss: 4.0012 - val_accuracy: 0.8205\n",
            "Epoch 16/22\n",
            "10/10 [==============================] - 257s 26s/step - loss: 3.7215e-05 - accuracy: 1.0000 - val_loss: 3.7837 - val_accuracy: 0.8462\n",
            "Epoch 17/22\n",
            "10/10 [==============================] - 265s 27s/step - loss: 2.2993e-05 - accuracy: 1.0000 - val_loss: 3.8704 - val_accuracy: 0.8205\n",
            "Epoch 18/22\n",
            "10/10 [==============================] - 257s 26s/step - loss: 0.0046 - accuracy: 0.9968 - val_loss: 4.3213 - val_accuracy: 0.8205\n",
            "Epoch 19/22\n",
            "10/10 [==============================] - 263s 27s/step - loss: 7.4948e-07 - accuracy: 1.0000 - val_loss: 4.9044 - val_accuracy: 0.8718\n",
            "Epoch 20/22\n",
            "10/10 [==============================] - 259s 26s/step - loss: 1.8562e-04 - accuracy: 1.0000 - val_loss: 5.1527 - val_accuracy: 0.8718\n",
            "Epoch 21/22\n",
            "10/10 [==============================] - 244s 25s/step - loss: 0.0229 - accuracy: 0.9968 - val_loss: 3.8743 - val_accuracy: 0.8205\n",
            "Epoch 22/22\n",
            "10/10 [==============================] - 259s 26s/step - loss: 0.0124 - accuracy: 0.9968 - val_loss: 3.3136 - val_accuracy: 0.8718\n"
          ]
        },
        {
          "data": {
            "text/plain": [
              "<keras.src.callbacks.History at 0x7bda25ed0c70>"
            ]
          },
          "execution_count": 11,
          "metadata": {},
          "output_type": "execute_result"
        }
      ],
      "source": [
        "VGGmodel2.compile(optimizer='adam', loss='binary_crossentropy', metrics=['accuracy'])\n",
        "VGGmodel2.fit(x=X_train, y=y_train, batch_size=32, epochs=22, validation_data=(X_val, y_val))"
      ]
    },
    {
      "cell_type": "code",
      "execution_count": 12,
      "metadata": {
        "colab": {
          "base_uri": "https://localhost:8080/",
          "height": 1000
        },
        "id": "teok0ZWaZ8ng",
        "outputId": "dbcc2190-689c-469c-fe00-20418ac9c09b"
      },
      "outputs": [
        {
          "name": "stdout",
          "output_type": "stream",
          "text": [
            "2/2 [==============================] - 65s 7s/step\n"
          ]
        },
        {
          "data": {
            "image/png": "[encoded data removed]",
            "text/plain": [
              "<Figure size 640x480 with 1 Axes>"
            ]
          },
          "metadata": {},
          "output_type": "display_data"
        },
        {
          "name": "stdout",
          "output_type": "stream",
          "text": [
            "\n",
            "Predicted and Actual Values\n",
            "Predicted class: [0] \tActual class: 0\n",
            "Predicted class: [0] \tActual class: 0\n",
            "Predicted class: [1] \tActual class: 1\n",
            "Predicted class: [0] \tActual class: 0\n",
            "Predicted class: [0] \tActual class: 0\n",
            "Predicted class: [0] \tActual class: 0\n",
            "Predicted class: [0] \tActual class: 0\n",
            "Predicted class: [0] \tActual class: 0\n",
            "Predicted class: [1] \tActual class: 1\n",
            "Predicted class: [1] \tActual class: 1\n",
            "Predicted class: [0] \tActual class: 0\n",
            "Predicted class: [1] \tActual class: 1\n",
            "Predicted class: [1] \tActual class: 1\n",
            "Predicted class: [0] \tActual class: 0\n",
            "Predicted class: [0] \tActual class: 0\n",
            "Predicted class: [0] \tActual class: 0\n",
            "Predicted class: [0] \tActual class: 0\n",
            "Predicted class: [0] \tActual class: 0\n",
            "Predicted class: [0] \tActual class: 0\n",
            "Predicted class: [1] \tActual class: 1\n",
            "Predicted class: [1] \tActual class: 1\n",
            "Predicted class: [1] \tActual class: 1\n",
            "Predicted class: [0] \tActual class: 0\n",
            "Predicted class: [0] \tActual class: 0\n",
            "Predicted class: [1] \tActual class: 1\n",
            "Predicted class: [0] \tActual class: 0\n",
            "Predicted class: [0] \tActual class: 0\n",
            "Predicted class: [1] \tActual class: 1\n",
            "Predicted class: [1] \tActual class: 0\n",
            "Predicted class: [1] \tActual class: 1\n",
            "Predicted class: [0] \tActual class: 0\n",
            "Predicted class: [0] \tActual class: 0\n",
            "Predicted class: [0] \tActual class: 0\n",
            "Predicted class: [0] \tActual class: 0\n",
            "Predicted class: [0] \tActual class: 0\n",
            "Predicted class: [0] \tActual class: 0\n",
            "Predicted class: [0] \tActual class: 0\n",
            "Predicted class: [0] \tActual class: 0\n",
            "Predicted class: [1] \tActual class: 1\n",
            "\n",
            " Test accuracy: 0.9743589758872986\n",
            "\n",
            " Test loss: 0.4438515305519104\n"
          ]
        }
      ],
      "source": [
        "from sklearn.metrics import confusion_matrix\n",
        "import seaborn as sns\n",
        "import matplotlib.pyplot as plt\n",
        "import pandas as pd\n",
        "\n",
        "y_pred = VGGmodel2.predict(X_test)\n",
        "threshold = 0.5\n",
        "y_pred_binary = (y_pred >= threshold).astype(int)\n",
        "\n",
        "#create a confusion matrix\n",
        "cm = confusion_matrix(y_test, y_pred_binary)\n",
        "\n",
        "#convert the confusion matrix to a pandas DataFrame\n",
        "cm_df = pd.DataFrame(cm, index=['Actual Class 0', 'Actual Class 1'], columns=['Predicted Class 0', 'Predicted Class 1'])\n",
        "\n",
        "#plot the confusion matrix using seaborn\n",
        "sns.heatmap(cm_df, annot=True, fmt=\"d\", cmap=\"Blues\", cbar=False)\n",
        "plt.title(\"Confusion Matrix\")\n",
        "plt.xlabel(\"Predicted Labels\")\n",
        "plt.ylabel(\"True Labels\")\n",
        "plt.show()\n",
        "print('')\n",
        "\n",
        "#print the predicted class and the actual class\n",
        "print('Predicted and Actual Values')\n",
        "for i in range(len(y_test)):\n",
        "    print('Predicted class:', y_pred_binary[i], '\\tActual class:', y_test[i])\n",
        "\n",
        "score = VGGmodel2.evaluate(X_test, y_test, verbose=0)\n",
        "\n",
        "#print test accuracy\n",
        "print('\\n', 'Test accuracy:', score[1])\n",
        "print('\\n', 'Test loss:', score[0])"
      ]
    }
  ],
  "metadata": {
    "colab": {
      "collapsed_sections": [
        "5yeo4yWZBuWI"
      ],
      "provenance": []
    },
    "kernelspec": {
      "display_name": "Python 3",
      "name": "python3"
    },
    "language_info": {
      "name": "python"
    }
  },
  "nbformat": 4,
  "nbformat_minor": 0
}
